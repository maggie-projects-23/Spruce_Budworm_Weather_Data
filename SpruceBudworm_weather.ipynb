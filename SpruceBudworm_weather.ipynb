{
 "cells": [
  {
   "cell_type": "markdown",
   "id": "709a789f-8344-4392-a985-6bfc079f049c",
   "metadata": {},
   "source": [
    "## Cleaning Data from Quebec Weather Stations"
   ]
  },
  {
   "cell_type": "markdown",
   "id": "86e91691-d583-4daf-b2b3-308ff7d218fd",
   "metadata": {},
   "source": [
    "## Connect and set up SQL "
   ]
  },
  {
   "cell_type": "code",
   "execution_count": 3,
   "id": "626e57cf-aa77-4ccb-9415-f44fb3151465",
   "metadata": {
    "scrolled": true
   },
   "outputs": [],
   "source": [
    "import sqlite3\n",
    "con = sqlite3.connect(\"WEATHER.db\") #create new database called Weather or connect to it if it already exists\n",
    "\n",
    "cursor_obj = con.cursor() #create a cursor to fetch results from SQL queries"
   ]
  },
  {
   "cell_type": "code",
   "execution_count": 4,
   "id": "c472925b-c095-48a6-9786-8231498b796a",
   "metadata": {},
   "outputs": [
    {
     "name": "stdout",
     "output_type": "stream",
     "text": [
      "Requirement already satisfied: sqlalchemy<2 in /opt/anaconda3/envs/Spruce_Budworm_weather/lib/python3.12/site-packages (1.4.54)\n",
      "The sql extension is already loaded. To reload it, use:\n",
      "  %reload_ext sql\n"
     ]
    },
    {
     "data": {
      "text/plain": [
       "'Connected: @WEATHER.db'"
      ]
     },
     "execution_count": 4,
     "metadata": {},
     "output_type": "execute_result"
    }
   ],
   "source": [
    "!pip install \"sqlalchemy<2\"\n",
    "\n",
    "#allows use of sql magic command\n",
    "%load_ext sql\n",
    "#connects to database\n",
    "%sql sqlite:///WEATHER.db\n"
   ]
  },
  {
   "cell_type": "markdown",
   "id": "b34c5397-523e-4bca-b8f8-da8c128b7b44",
   "metadata": {},
   "source": [
    "## Load data using Pandas"
   ]
  },
  {
   "cell_type": "code",
   "execution_count": 15,
   "id": "8fba7c63-5033-4688-a7e5-1f6dac87f637",
   "metadata": {},
   "outputs": [
    {
     "data": {
      "text/plain": [
       "7805150"
      ]
     },
     "execution_count": 15,
     "metadata": {},
     "output_type": "execute_result"
    }
   ],
   "source": [
    "import csv, pandas as pd, numpy as np\n",
    "\n",
    "df1 = pd.read_csv(\"/Users/maggiesullens/Library/Mobile Documents/com~apple~CloudDocs/Spruce Budworm/Retrieved weather/qc_weather.csv\")\n",
    "df1.rename(columns={\"Unnamed: 0\": \"ID\"}, inplace=True)\n",
    "df1.to_sql(\"QC_WEATHER\", con, if_exists='replace', index=False)\n"
   ]
  },
  {
   "cell_type": "markdown",
   "id": "7831d25b-6e66-4782-a20f-889c206d868f",
   "metadata": {},
   "source": [
    "## Show glipse of data"
   ]
  },
  {
   "cell_type": "code",
   "execution_count": 18,
   "id": "2c8937a5-d532-4638-bc30-bd4e87846cca",
   "metadata": {
    "scrolled": true
   },
   "outputs": [
    {
     "name": "stdout",
     "output_type": "stream",
     "text": [
      " * sqlite:///WEATHER.db\n",
      "Done.\n"
     ]
    },
    {
     "data": {
      "text/html": [
       "<table>\n",
       "    <thead>\n",
       "        <tr>\n",
       "            <th>ID</th>\n",
       "            <th>prov</th>\n",
       "            <th>station_name</th>\n",
       "            <th>station_id</th>\n",
       "            <th>lat</th>\n",
       "            <th>lon</th>\n",
       "            <th>elev</th>\n",
       "            <th>date</th>\n",
       "            <th>max_temp</th>\n",
       "            <th>mean_temp</th>\n",
       "            <th>min_temp</th>\n",
       "            <th>total_precip</th>\n",
       "        </tr>\n",
       "    </thead>\n",
       "    <tbody>\n",
       "        <tr>\n",
       "            <td>1</td>\n",
       "            <td>QC</td>\n",
       "            <td>DALHOUSIE STATION</td>\n",
       "            <td>5199</td>\n",
       "            <td>45.3</td>\n",
       "            <td>-74.47</td>\n",
       "            <td>70.0</td>\n",
       "            <td>1974-09-01</td>\n",
       "            <td>21.1</td>\n",
       "            <td>13.4</td>\n",
       "            <td>5.6</td>\n",
       "            <td>0.0</td>\n",
       "        </tr>\n",
       "        <tr>\n",
       "            <td>2</td>\n",
       "            <td>QC</td>\n",
       "            <td>DALHOUSIE STATION</td>\n",
       "            <td>5199</td>\n",
       "            <td>45.3</td>\n",
       "            <td>-74.47</td>\n",
       "            <td>70.0</td>\n",
       "            <td>1974-09-02</td>\n",
       "            <td>16.1</td>\n",
       "            <td>13.1</td>\n",
       "            <td>10.0</td>\n",
       "            <td>8.6</td>\n",
       "        </tr>\n",
       "        <tr>\n",
       "            <td>3</td>\n",
       "            <td>QC</td>\n",
       "            <td>DALHOUSIE STATION</td>\n",
       "            <td>5199</td>\n",
       "            <td>45.3</td>\n",
       "            <td>-74.47</td>\n",
       "            <td>70.0</td>\n",
       "            <td>1974-09-03</td>\n",
       "            <td>15.6</td>\n",
       "            <td>12.5</td>\n",
       "            <td>9.4</td>\n",
       "            <td>3.3</td>\n",
       "        </tr>\n",
       "    </tbody>\n",
       "</table>"
      ],
      "text/plain": [
       "[(1, 'QC', 'DALHOUSIE STATION', 5199, 45.3, -74.47, 70.0, '1974-09-01', 21.1, 13.4, 5.6, 0.0),\n",
       " (2, 'QC', 'DALHOUSIE STATION', 5199, 45.3, -74.47, 70.0, '1974-09-02', 16.1, 13.1, 10.0, 8.6),\n",
       " (3, 'QC', 'DALHOUSIE STATION', 5199, 45.3, -74.47, 70.0, '1974-09-03', 15.6, 12.5, 9.4, 3.3)]"
      ]
     },
     "execution_count": 18,
     "metadata": {},
     "output_type": "execute_result"
    }
   ],
   "source": [
    "%%sql \n",
    "SELECT *\n",
    "FROM QC_WEATHER LIMIT 3;\n"
   ]
  },
  {
   "cell_type": "markdown",
   "id": "db18c7ab-4672-4a91-8f47-8859715072ae",
   "metadata": {},
   "source": [
    "## Assign each day a group number\n",
    "This is to bunch all days together in a new dataset so that we can find the averages for each day.\n",
    "We complete this using pandas and in batches to reduce run time. "
   ]
  },
  {
   "cell_type": "code",
   "execution_count": 83,
   "id": "d7028b6a-dcae-46a9-a2d7-7da69e0402fa",
   "metadata": {},
   "outputs": [
    {
     "name": "stdout",
     "output_type": "stream",
     "text": [
      " * sqlite:///WEATHER.db\n",
      "Done.\n",
      " * sqlite:///WEATHER.db\n",
      "Done.\n",
      " * sqlite:///WEATHER.db\n",
      "Done.\n",
      " * sqlite:///WEATHER.db\n",
      "Done.\n",
      " * sqlite:///WEATHER.db\n",
      "Done.\n",
      " * sqlite:///WEATHER.db\n",
      "Done.\n",
      " * sqlite:///WEATHER.db\n",
      "Done.\n",
      " * sqlite:///WEATHER.db\n",
      "Done.\n",
      " * sqlite:///WEATHER.db\n",
      "Done.\n",
      " * sqlite:///WEATHER.db\n",
      "Done.\n",
      " * sqlite:///WEATHER.db\n",
      "Done.\n",
      " * sqlite:///WEATHER.db\n",
      "Done.\n",
      " * sqlite:///WEATHER.db\n",
      "Done.\n",
      " * sqlite:///WEATHER.db\n",
      "Done.\n",
      " * sqlite:///WEATHER.db\n",
      "Done.\n",
      " * sqlite:///WEATHER.db\n",
      "Done.\n",
      " * sqlite:///WEATHER.db\n",
      "Done.\n",
      " * sqlite:///WEATHER.db\n",
      "Done.\n",
      " * sqlite:///WEATHER.db\n",
      "Done.\n",
      " * sqlite:///WEATHER.db\n",
      "Done.\n",
      " * sqlite:///WEATHER.db\n",
      "Done.\n",
      " * sqlite:///WEATHER.db\n",
      "Done.\n",
      " * sqlite:///WEATHER.db\n",
      "Done.\n",
      " * sqlite:///WEATHER.db\n",
      "Done.\n",
      " * sqlite:///WEATHER.db\n",
      "Done.\n",
      " * sqlite:///WEATHER.db\n",
      "Done.\n",
      " * sqlite:///WEATHER.db\n",
      "Done.\n",
      " * sqlite:///WEATHER.db\n",
      "Done.\n",
      " * sqlite:///WEATHER.db\n",
      "Done.\n",
      " * sqlite:///WEATHER.db\n",
      "Done.\n",
      " * sqlite:///WEATHER.db\n",
      "Done.\n",
      " * sqlite:///WEATHER.db\n",
      "Done.\n",
      " * sqlite:///WEATHER.db\n",
      "Done.\n",
      " * sqlite:///WEATHER.db\n",
      "Done.\n",
      " * sqlite:///WEATHER.db\n",
      "Done.\n",
      " * sqlite:///WEATHER.db\n",
      "Done.\n",
      " * sqlite:///WEATHER.db\n",
      "Done.\n",
      " * sqlite:///WEATHER.db\n",
      "Done.\n",
      " * sqlite:///WEATHER.db\n",
      "Done.\n",
      " * sqlite:///WEATHER.db\n",
      "Done.\n",
      " * sqlite:///WEATHER.db\n",
      "Done.\n",
      " * sqlite:///WEATHER.db\n",
      "Done.\n",
      " * sqlite:///WEATHER.db\n",
      "Done.\n",
      " * sqlite:///WEATHER.db\n",
      "Done.\n",
      " * sqlite:///WEATHER.db\n",
      "Done.\n",
      " * sqlite:///WEATHER.db\n",
      "Done.\n",
      " * sqlite:///WEATHER.db\n",
      "Done.\n",
      " * sqlite:///WEATHER.db\n",
      "Done.\n",
      " * sqlite:///WEATHER.db\n",
      "Done.\n",
      " * sqlite:///WEATHER.db\n",
      "Done.\n",
      " * sqlite:///WEATHER.db\n",
      "Done.\n",
      " * sqlite:///WEATHER.db\n",
      "Done.\n",
      " * sqlite:///WEATHER.db\n",
      "Done.\n",
      " * sqlite:///WEATHER.db\n",
      "Done.\n",
      " * sqlite:///WEATHER.db\n",
      "Done.\n",
      " * sqlite:///WEATHER.db\n",
      "Done.\n",
      " * sqlite:///WEATHER.db\n",
      "Done.\n",
      " * sqlite:///WEATHER.db\n",
      "Done.\n",
      " * sqlite:///WEATHER.db\n",
      "Done.\n",
      " * sqlite:///WEATHER.db\n",
      "Done.\n",
      " * sqlite:///WEATHER.db\n",
      "Done.\n",
      " * sqlite:///WEATHER.db\n",
      "Done.\n",
      " * sqlite:///WEATHER.db\n",
      "Done.\n",
      " * sqlite:///WEATHER.db\n",
      "Done.\n",
      " * sqlite:///WEATHER.db\n",
      "Done.\n",
      " * sqlite:///WEATHER.db\n",
      "Done.\n",
      " * sqlite:///WEATHER.db\n",
      "Done.\n",
      " * sqlite:///WEATHER.db\n",
      "Done.\n",
      " * sqlite:///WEATHER.db\n",
      "Done.\n",
      " * sqlite:///WEATHER.db\n",
      "Done.\n",
      " * sqlite:///WEATHER.db\n",
      "Done.\n",
      " * sqlite:///WEATHER.db\n",
      "Done.\n",
      " * sqlite:///WEATHER.db\n",
      "Done.\n",
      " * sqlite:///WEATHER.db\n",
      "Done.\n",
      " * sqlite:///WEATHER.db\n",
      "Done.\n",
      " * sqlite:///WEATHER.db\n",
      "Done.\n",
      " * sqlite:///WEATHER.db\n",
      "Done.\n",
      " * sqlite:///WEATHER.db\n",
      "Done.\n",
      " * sqlite:///WEATHER.db\n",
      "Done.\n",
      " * sqlite:///WEATHER.db\n",
      "Done.\n"
     ]
    }
   ],
   "source": [
    "batch_size = 100000\n",
    "offset = 0\n",
    "all_data = []\n",
    "\n",
    "while True:\n",
    "    query = f\"\"\"\n",
    "    SELECT *,\n",
    "           DENSE_RANK() OVER (ORDER BY date) AS date_group\n",
    "    FROM (\n",
    "        SELECT *\n",
    "        FROM QC_WEATHER\n",
    "        ORDER BY date\n",
    "        LIMIT {batch_size} OFFSET {offset}\n",
    "    ) AS DATE_GROUPS;\n",
    "    \"\"\"\n",
    "    \n",
    "    result = %sql $query\n",
    "    df = result.DataFrame()\n",
    "    \n",
    "    if df.empty:\n",
    "        break\n",
    "    \n",
    "    all_data.append(df)\n",
    "    offset += batch_size\n",
    "\n",
    "final_df = pd.concat(all_data, ignore_index=True)"
   ]
  },
  {
   "cell_type": "markdown",
   "id": "d2481bcf-46d7-4d9a-9eb2-f4e803f8e820",
   "metadata": {},
   "source": [
    "## Convert back to SQL"
   ]
  },
  {
   "cell_type": "code",
   "execution_count": 84,
   "id": "8a65a723-d883-4c49-b5b2-123de948c065",
   "metadata": {},
   "outputs": [
    {
     "data": {
      "text/plain": [
       "7805150"
      ]
     },
     "execution_count": 84,
     "metadata": {},
     "output_type": "execute_result"
    }
   ],
   "source": [
    "final_df.to_sql(\"DATE_GROUPS\", con, if_exists='replace', index=False)"
   ]
  },
  {
   "cell_type": "markdown",
   "id": "2fc4d527-2c1f-4259-857d-817063955918",
   "metadata": {},
   "source": [
    "## Glimpse of New Dataset"
   ]
  },
  {
   "cell_type": "code",
   "execution_count": 85,
   "id": "e4ad2b1c-c15d-4669-8b9a-30c7e73cb397",
   "metadata": {},
   "outputs": [
    {
     "name": "stdout",
     "output_type": "stream",
     "text": [
      " * sqlite:///WEATHER.db\n",
      "Done.\n"
     ]
    },
    {
     "data": {
      "text/html": [
       "<table>\n",
       "    <thead>\n",
       "        <tr>\n",
       "            <th>ID</th>\n",
       "            <th>prov</th>\n",
       "            <th>station_name</th>\n",
       "            <th>station_id</th>\n",
       "            <th>lat</th>\n",
       "            <th>lon</th>\n",
       "            <th>elev</th>\n",
       "            <th>date</th>\n",
       "            <th>max_temp</th>\n",
       "            <th>mean_temp</th>\n",
       "            <th>min_temp</th>\n",
       "            <th>total_precip</th>\n",
       "            <th>date_group</th>\n",
       "        </tr>\n",
       "    </thead>\n",
       "    <tbody>\n",
       "        <tr>\n",
       "            <td>1863303</td>\n",
       "            <td>QC</td>\n",
       "            <td>MONTREAL MCGILL</td>\n",
       "            <td>5420</td>\n",
       "            <td>45.5</td>\n",
       "            <td>-73.58</td>\n",
       "            <td>56.9</td>\n",
       "            <td>1871-07-01</td>\n",
       "            <td>28.3</td>\n",
       "            <td>20.8</td>\n",
       "            <td>13.3</td>\n",
       "            <td>0.0</td>\n",
       "            <td>1</td>\n",
       "        </tr>\n",
       "        <tr>\n",
       "            <td>1863304</td>\n",
       "            <td>QC</td>\n",
       "            <td>MONTREAL MCGILL</td>\n",
       "            <td>5420</td>\n",
       "            <td>45.5</td>\n",
       "            <td>-73.58</td>\n",
       "            <td>56.9</td>\n",
       "            <td>1871-07-02</td>\n",
       "            <td>26.1</td>\n",
       "            <td>22.8</td>\n",
       "            <td>19.4</td>\n",
       "            <td>0.0</td>\n",
       "            <td>2</td>\n",
       "        </tr>\n",
       "        <tr>\n",
       "            <td>1863305</td>\n",
       "            <td>QC</td>\n",
       "            <td>MONTREAL MCGILL</td>\n",
       "            <td>5420</td>\n",
       "            <td>45.5</td>\n",
       "            <td>-73.58</td>\n",
       "            <td>56.9</td>\n",
       "            <td>1871-07-03</td>\n",
       "            <td>28.9</td>\n",
       "            <td>20.3</td>\n",
       "            <td>11.7</td>\n",
       "            <td>0.0</td>\n",
       "            <td>3</td>\n",
       "        </tr>\n",
       "    </tbody>\n",
       "</table>"
      ],
      "text/plain": [
       "[(1863303, 'QC', 'MONTREAL MCGILL', 5420, 45.5, -73.58, 56.9, '1871-07-01', 28.3, 20.8, 13.3, 0.0, 1),\n",
       " (1863304, 'QC', 'MONTREAL MCGILL', 5420, 45.5, -73.58, 56.9, '1871-07-02', 26.1, 22.8, 19.4, 0.0, 2),\n",
       " (1863305, 'QC', 'MONTREAL MCGILL', 5420, 45.5, -73.58, 56.9, '1871-07-03', 28.9, 20.3, 11.7, 0.0, 3)]"
      ]
     },
     "execution_count": 85,
     "metadata": {},
     "output_type": "execute_result"
    }
   ],
   "source": [
    "%%sql\n",
    "SELECT * FROM DATE_GROUPS LIMIT 3;"
   ]
  },
  {
   "cell_type": "markdown",
   "id": "2d3f29f3-991e-4126-b56a-a418abd7d384",
   "metadata": {},
   "source": [
    "## Make Daily Averages Dataset for Max Temp, Min Temp, Mean Temp, and Total Precip"
   ]
  },
  {
   "cell_type": "code",
   "execution_count": 86,
   "id": "d5ec3c55-5bab-45a1-a81c-7d346d316d89",
   "metadata": {
    "scrolled": true
   },
   "outputs": [
    {
     "name": "stdout",
     "output_type": "stream",
     "text": [
      " * sqlite:///WEATHER.db\n",
      "Done.\n",
      "Done.\n",
      "Done.\n"
     ]
    },
    {
     "data": {
      "text/html": [
       "<table>\n",
       "    <thead>\n",
       "        <tr>\n",
       "            <th>date_group</th>\n",
       "            <th>date</th>\n",
       "            <th>avg_max_temp</th>\n",
       "            <th>avg_min_temp</th>\n",
       "            <th>avg_mean_temp</th>\n",
       "            <th>avg_total_precip</th>\n",
       "        </tr>\n",
       "    </thead>\n",
       "    <tbody>\n",
       "        <tr>\n",
       "            <td>1</td>\n",
       "            <td>1871-07-01</td>\n",
       "            <td>7.5856</td>\n",
       "            <td>-3.3965</td>\n",
       "            <td>2.0994</td>\n",
       "            <td>2.4766</td>\n",
       "        </tr>\n",
       "        <tr>\n",
       "            <td>2</td>\n",
       "            <td>1871-07-02</td>\n",
       "            <td>8.4455</td>\n",
       "            <td>-2.3483</td>\n",
       "            <td>3.0549</td>\n",
       "            <td>2.9306</td>\n",
       "        </tr>\n",
       "        <tr>\n",
       "            <td>3</td>\n",
       "            <td>1871-07-03</td>\n",
       "            <td>8.1727</td>\n",
       "            <td>-2.2651</td>\n",
       "            <td>2.9604</td>\n",
       "            <td>2.7102</td>\n",
       "        </tr>\n",
       "    </tbody>\n",
       "</table>"
      ],
      "text/plain": [
       "[(1, '1871-07-01', 7.5856, -3.3965, 2.0994, 2.4766),\n",
       " (2, '1871-07-02', 8.4455, -2.3483, 3.0549, 2.9306),\n",
       " (3, '1871-07-03', 8.1727, -2.2651, 2.9604, 2.7102)]"
      ]
     },
     "execution_count": 86,
     "metadata": {},
     "output_type": "execute_result"
    }
   ],
   "source": [
    "%%sql\n",
    "DROP TABLE IF EXISTS QC_DAY_AVERAGE_WEATHER;\n",
    "\n",
    "CREATE TABLE QC_DAY_AVERAGE_WEATHER AS\n",
    "SELECT date_group, date, ROUND(AVG(max_temp),4) as avg_max_temp, \n",
    "ROUND(AVG(min_temp),4) as avg_min_temp, ROUND(AVG(mean_temp),4) as avg_mean_temp,\n",
    "ROUND(AVG(total_precip),4) as avg_total_precip FROM DATE_GROUPS GROUP BY date_group;\n",
    "\n",
    "SELECT * FROM QC_DAY_AVERAGE_WEATHER LIMIT 3;"
   ]
  },
  {
   "cell_type": "markdown",
   "id": "731d5ac2-d3ab-47bf-8aa6-6e988bf92118",
   "metadata": {},
   "source": [
    "## Check to see if there are any duplicate days"
   ]
  },
  {
   "cell_type": "code",
   "execution_count": 87,
   "id": "0a6c459b-3c5a-46c4-a175-cc6ff33b9ae9",
   "metadata": {},
   "outputs": [
    {
     "name": "stdout",
     "output_type": "stream",
     "text": [
      " * sqlite:///WEATHER.db\n",
      "Done.\n"
     ]
    },
    {
     "data": {
      "text/html": [
       "<table>\n",
       "    <thead>\n",
       "        <tr>\n",
       "            <th>date_group</th>\n",
       "            <th>date</th>\n",
       "            <th>occurrences</th>\n",
       "        </tr>\n",
       "    </thead>\n",
       "    <tbody>\n",
       "    </tbody>\n",
       "</table>"
      ],
      "text/plain": [
       "[]"
      ]
     },
     "execution_count": 87,
     "metadata": {},
     "output_type": "execute_result"
    }
   ],
   "source": [
    "%%sql\n",
    "SELECT date_group, date, COUNT(*) AS occurrences\n",
    "FROM QC_DAY_AVERAGE_WEATHER\n",
    "GROUP BY date\n",
    "HAVING COUNT(*) > 1;"
   ]
  },
  {
   "cell_type": "markdown",
   "id": "3841cdf4-8e47-4d7c-b99b-4385e31f7aae",
   "metadata": {},
   "source": [
    "## Save Average Dataset to CSV"
   ]
  },
  {
   "cell_type": "code",
   "execution_count": 88,
   "id": "8b85617d-6a8a-453d-b4c8-d9ecb4260c3d",
   "metadata": {},
   "outputs": [
    {
     "name": "stdout",
     "output_type": "stream",
     "text": [
      "Data exported to 'QC_daily_average_data.csv' successfully.\n"
     ]
    }
   ],
   "source": [
    "query = \"SELECT * FROM QC_DAY_AVERAGE_WEATHER\"\n",
    "data_frame = pd.read_sql(query, con)\n",
    "\n",
    "csv_file_name = 'QC_daily_average_data.csv'\n",
    "data_frame.to_csv(csv_file_name, index=False)\n",
    "print(f\"Data exported to '{csv_file_name}' successfully.\")"
   ]
  },
  {
   "cell_type": "markdown",
   "id": "db3be1cb-d83d-4984-a855-1aa209a96695",
   "metadata": {},
   "source": [
    "## Make Yearly Averages Dataset of the Daily Averages for Max Temp, Min Temp, Mean Temp, and Total Precip"
   ]
  },
  {
   "cell_type": "code",
   "execution_count": 89,
   "id": "428a9833-11e7-419c-a403-b927a829b09f",
   "metadata": {},
   "outputs": [
    {
     "name": "stdout",
     "output_type": "stream",
     "text": [
      " * sqlite:///WEATHER.db\n",
      "Done.\n"
     ]
    },
    {
     "data": {
      "text/plain": [
       "12387"
      ]
     },
     "execution_count": 89,
     "metadata": {},
     "output_type": "execute_result"
    }
   ],
   "source": [
    "query = f\"\"\"\n",
    "SELECT *,\n",
    "    DENSE_RANK() OVER (ORDER BY strftime('%Y', date)) AS year_group\n",
    "FROM (\n",
    "    SELECT *\n",
    "    FROM QC_DAY_AVERAGE_WEATHER\n",
    "    ORDER BY date\n",
    ") AS subquery_year_group;\n",
    "\"\"\"\n",
    "\n",
    "result2 = %sql $query\n",
    "df2 = result2.DataFrame()\n",
    "\n",
    "# Now save to a new or same table\n",
    "df2.to_sql(\"YEAR_GROUPS\", con, if_exists='replace', index=False)"
   ]
  },
  {
   "cell_type": "code",
   "execution_count": 97,
   "id": "30a518d2-2bee-489d-98c9-a0fb87b441b8",
   "metadata": {},
   "outputs": [
    {
     "name": "stdout",
     "output_type": "stream",
     "text": [
      " * sqlite:///WEATHER.db\n",
      "Done.\n",
      "Done.\n",
      "Done.\n"
     ]
    },
    {
     "data": {
      "text/html": [
       "<table>\n",
       "    <thead>\n",
       "        <tr>\n",
       "            <th>year_group</th>\n",
       "            <th>date</th>\n",
       "            <th>year_avg_max_temp</th>\n",
       "            <th>year_avg_min_temp</th>\n",
       "            <th>year_avg_mean_temp</th>\n",
       "            <th>year_avg_total_precip</th>\n",
       "        </tr>\n",
       "    </thead>\n",
       "    <tbody>\n",
       "        <tr>\n",
       "            <td>1</td>\n",
       "            <td>1871-07-01</td>\n",
       "            <td>9.29</td>\n",
       "            <td>-1.2</td>\n",
       "            <td>4.05</td>\n",
       "            <td>2.82</td>\n",
       "        </tr>\n",
       "        <tr>\n",
       "            <td>2</td>\n",
       "            <td>1872-01-01</td>\n",
       "            <td>8.51</td>\n",
       "            <td>-1.89</td>\n",
       "            <td>3.32</td>\n",
       "            <td>2.74</td>\n",
       "        </tr>\n",
       "        <tr>\n",
       "            <td>3</td>\n",
       "            <td>1873-01-01</td>\n",
       "            <td>8.15</td>\n",
       "            <td>-2.29</td>\n",
       "            <td>2.93</td>\n",
       "            <td>2.58</td>\n",
       "        </tr>\n",
       "    </tbody>\n",
       "</table>"
      ],
      "text/plain": [
       "[(1, '1871-07-01', 9.29, -1.2, 4.05, 2.82),\n",
       " (2, '1872-01-01', 8.51, -1.89, 3.32, 2.74),\n",
       " (3, '1873-01-01', 8.15, -2.29, 2.93, 2.58)]"
      ]
     },
     "execution_count": 97,
     "metadata": {},
     "output_type": "execute_result"
    }
   ],
   "source": [
    "%%sql\n",
    "DROP TABLE IF EXISTS QC_YEARLY_DAY_AVERAGES_WEATHER;\n",
    "\n",
    "CREATE TABLE QC_YEARLY_DAY_AVERAGES_WEATHER AS\n",
    "SELECT year_group, date, ROUND(AVG(avg_max_temp),2) as year_avg_max_temp, \n",
    "ROUND(AVG(avg_min_temp),2) as year_avg_min_temp, ROUND(AVG(avg_mean_temp),2) as year_avg_mean_temp,\n",
    "ROUND(AVG(avg_total_precip),2) as year_avg_total_precip FROM YEAR_GROUPS GROUP BY year_group;\n",
    "\n",
    "SELECT * FROM QC_YEARLY_DAY_AVERAGES_WEATHER LIMIT 3;"
   ]
  },
  {
   "cell_type": "code",
   "execution_count": 96,
   "id": "39ad6fc0-8245-4357-bb28-779464d389ab",
   "metadata": {},
   "outputs": [
    {
     "name": "stdout",
     "output_type": "stream",
     "text": [
      "Data exported to 'QC_yearly_daily_averages_data.csv' successfully.\n"
     ]
    }
   ],
   "source": [
    "query = \"SELECT * FROM QC_YEARLY_DAY_AVERAGES_WEATHER\"\n",
    "data_frame = pd.read_sql(query, con)\n",
    "\n",
    "csv_file_name = 'QC_yearly_daily_averages_data.csv'\n",
    "data_frame.to_csv(csv_file_name, index=False)\n",
    "print(f\"Data exported to '{csv_file_name}' successfully.\")"
   ]
  },
  {
   "cell_type": "code",
   "execution_count": null,
   "id": "7d57bb30-3108-4af5-905d-f4881117c063",
   "metadata": {},
   "outputs": [],
   "source": [
    "%%sql\n",
    "SELECT COUNT("
   ]
  }
 ],
 "metadata": {
  "kernelspec": {
   "display_name": "Python 3 (ipykernel)",
   "language": "python",
   "name": "python3"
  },
  "language_info": {
   "codemirror_mode": {
    "name": "ipython",
    "version": 3
   },
   "file_extension": ".py",
   "mimetype": "text/x-python",
   "name": "python",
   "nbconvert_exporter": "python",
   "pygments_lexer": "ipython3",
   "version": "3.12.9"
  }
 },
 "nbformat": 4,
 "nbformat_minor": 5
}
